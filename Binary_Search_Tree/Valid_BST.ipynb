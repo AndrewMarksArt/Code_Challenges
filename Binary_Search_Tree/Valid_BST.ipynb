{
 "cells": [
  {
   "cell_type": "markdown",
   "metadata": {},
   "source": [
    "## To DO:\n",
    "\n",
    "1. Add comments to explain what is happening at each step and why\n",
    "2. Add BST research to folder\n",
    "3. Rewatch explanation and write out solution on whiteboard"
   ]
  },
  {
   "cell_type": "code",
   "execution_count": 1,
   "metadata": {},
   "outputs": [
    {
     "name": "stdout",
     "output_type": "stream",
     "text": [
      "True\n"
     ]
    }
   ],
   "source": [
    "# definition for a binary tree node.\n",
    "class TreeNode():\n",
    "    def __init__(self, x):\n",
    "        self.val = x\n",
    "        self.left = None\n",
    "        self.right = None\n",
    "        \n",
    "class Solution:\n",
    "    def isValidBST(self, root):\n",
    "        def helper(node, lower, upper):\n",
    "            if not node:\n",
    "                return True\n",
    "            val = node.val\n",
    "            if val <= lower or val >= upper:\n",
    "                return False\n",
    "            if not helper(node.right, val, upper):\n",
    "                return False\n",
    "            if not helper(node.left, lower, val):\n",
    "                return False\n",
    "            return True\n",
    "        return helper(root, float('-inf'), float('inf'))\n",
    "    \n",
    "node = TreeNode(5)\n",
    "node.left = TreeNode(4)\n",
    "node.right = TreeNode(7)\n",
    "\n",
    "print(Solution().isValidBST(node))"
   ]
  },
  {
   "cell_type": "code",
   "execution_count": null,
   "metadata": {},
   "outputs": [],
   "source": []
  }
 ],
 "metadata": {
  "kernelspec": {
   "display_name": "Python 3",
   "language": "python",
   "name": "python3"
  },
  "language_info": {
   "codemirror_mode": {
    "name": "ipython",
    "version": 3
   },
   "file_extension": ".py",
   "mimetype": "text/x-python",
   "name": "python",
   "nbconvert_exporter": "python",
   "pygments_lexer": "ipython3",
   "version": "3.7.6"
  }
 },
 "nbformat": 4,
 "nbformat_minor": 4
}
